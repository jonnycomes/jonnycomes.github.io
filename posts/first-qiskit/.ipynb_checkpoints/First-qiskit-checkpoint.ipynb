{
 "cells": [
  {
   "cell_type": "raw",
   "id": "9b462791-d730-465b-b1ba-ac587c2c2745",
   "metadata": {},
   "source": [
    "---\n",
    "title: \"Qiskit: getting started\"\n",
    "author: \"Jonny Comes\"\n",
    "date: \"2022-11-27\"\n",
    "categories: [quantum, qiskit]\n",
    "jupyter: python3\n",
    "---"
   ]
  },
  {
   "cell_type": "code",
   "execution_count": 2,
   "id": "69dbca0e-add0-470b-b982-06886775714e",
   "metadata": {},
   "outputs": [],
   "source": [
    "from qiskit import QuantumCircuit"
   ]
  },
  {
   "cell_type": "markdown",
   "id": "b55d9498-4c7e-4e9f-8830-24284364007b",
   "metadata": {},
   "source": [
    "First, we create a 3-qubit quantum circuit:"
   ]
  },
  {
   "cell_type": "code",
   "execution_count": 9,
   "id": "59be6a26-a839-4b4b-835b-10ad05be93c3",
   "metadata": {},
   "outputs": [],
   "source": [
    "qc = QuantumCircuit(3)"
   ]
  },
  {
   "cell_type": "markdown",
   "id": "da0586d0-46c8-497f-8507-b3ed6ea0db30",
   "metadata": {},
   "source": [
    "Now, let's add some gates:"
   ]
  },
  {
   "cell_type": "code",
   "execution_count": 10,
   "id": "621f1cdc-8e1a-4499-888d-721cd2411b5c",
   "metadata": {},
   "outputs": [
    {
     "data": {
      "text/html": [
       "<pre style=\"word-wrap: normal;white-space: pre;background: #fff0;line-height: 1.1;font-family: &quot;Courier New&quot;,Courier,monospace\">     ┌───┐\n",
       "q_0: ┤ X ├\n",
       "     └───┘\n",
       "q_1: ─────\n",
       "     ┌───┐\n",
       "q_2: ┤ H ├\n",
       "     └───┘</pre>"
      ],
      "text/plain": [
       "     ┌───┐\n",
       "q_0: ┤ X ├\n",
       "     └───┘\n",
       "q_1: ─────\n",
       "     ┌───┐\n",
       "q_2: ┤ H ├\n",
       "     └───┘"
      ]
     },
     "execution_count": 10,
     "metadata": {},
     "output_type": "execute_result"
    }
   ],
   "source": [
    "qc.x(0)\n",
    "qc.h(2)\n",
    "qc.draw()"
   ]
  },
  {
   "cell_type": "code",
   "execution_count": null,
   "id": "2669ec92-ff9f-4453-a5e4-ca1d35e804a6",
   "metadata": {},
   "outputs": [],
   "source": []
  }
 ],
 "metadata": {
  "kernelspec": {
   "display_name": "Python 3 (ipykernel)",
   "language": "python",
   "name": "python3"
  },
  "language_info": {
   "codemirror_mode": {
    "name": "ipython",
    "version": 3
   },
   "file_extension": ".py",
   "mimetype": "text/x-python",
   "name": "python",
   "nbconvert_exporter": "python",
   "pygments_lexer": "ipython3",
   "version": "3.9.12"
  }
 },
 "nbformat": 4,
 "nbformat_minor": 5
}
